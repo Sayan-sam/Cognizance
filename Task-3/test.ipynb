{
 "cells": [
  {
   "cell_type": "code",
   "execution_count": 24,
   "metadata": {},
   "outputs": [
    {
     "name": "stdout",
     "output_type": "stream",
     "text": [
      "[10 11 12 13 14]\n"
     ]
    }
   ],
   "source": [
    "import numpy as np\n",
    "\n",
    "# Taking the range of the input\n",
    "start = int(input(\"First Number: \"))\n",
    "end = int(input(\"Second Number: \"))\n",
    "\n",
    "l = []\n",
    "\n",
    "for i in range(start,end+1):\n",
    "    l.append(i);\n",
    "vector = np.array(l)\n",
    "print(vector)"
   ]
  },
  {
   "cell_type": "code",
   "execution_count": 39,
   "metadata": {},
   "outputs": [
    {
     "name": "stdout",
     "output_type": "stream",
     "text": [
      "[10 11 12 13 14]\n"
     ]
    }
   ],
   "source": [
    "np.insert(vector,3,[0],0)\n",
    "print(vector)"
   ]
  }
 ],
 "metadata": {
  "kernelspec": {
   "display_name": "Python 3.10.2 64-bit",
   "language": "python",
   "name": "python3"
  },
  "language_info": {
   "codemirror_mode": {
    "name": "ipython",
    "version": 3
   },
   "file_extension": ".py",
   "mimetype": "text/x-python",
   "name": "python",
   "nbconvert_exporter": "python",
   "pygments_lexer": "ipython3",
   "version": "3.10.2"
  },
  "orig_nbformat": 4,
  "vscode": {
   "interpreter": {
    "hash": "768d29acb26c6f46439f26b5bf49ddd6231c1ea664bee204d313e927ac15332b"
   }
  }
 },
 "nbformat": 4,
 "nbformat_minor": 2
}
