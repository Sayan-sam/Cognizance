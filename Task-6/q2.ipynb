{
 "cells": [
  {
   "cell_type": "markdown",
   "metadata": {},
   "source": [
    "##### Reading the data set into a list of dictionaries"
   ]
  },
  {
   "cell_type": "code",
   "execution_count": 7,
   "metadata": {},
   "outputs": [],
   "source": [
    "from csv import DictReader\n",
    "import pandas as pd\n",
    "\n",
    "with open(\"dataset.csv\") as file:\n",
    "    data = list(DictReader(file))\n",
    "    "
   ]
  },
  {
   "cell_type": "markdown",
   "metadata": {},
   "source": [
    "##### Finding out all the columns that have the potential nil values."
   ]
  },
  {
   "cell_type": "code",
   "execution_count": 44,
   "metadata": {},
   "outputs": [
    {
     "name": "stdout",
     "output_type": "stream",
     "text": [
      "['LotFrontage', 'Alley', 'BsmtQual', 'BsmtCond', 'BsmtExposure', 'BsmtFinType1', 'BsmtFinType2']\n"
     ]
    }
   ],
   "source": [
    "list = []\n",
    "for k in data[0].keys():\n",
    "    for df in data:\n",
    "        if(df[k] == \"NA\" or df[k] == \"nil\" or df[k] == \"\" or df[k] == \"nan\"):\n",
    "            list.append(k)\n",
    "            break\n",
    "print(list)"
   ]
  },
  {
   "cell_type": "markdown",
   "metadata": {},
   "source": [
    "##### Replacing all the nil or nan values with 0"
   ]
  },
  {
   "cell_type": "code",
   "execution_count": 49,
   "metadata": {},
   "outputs": [],
   "source": [
    "for df in data:\n",
    "    for l in list:\n",
    "        if(df[l] == \"NA\" or df[l] == \"nil\" or df[l] == \"\" or df[l] == \"nan\"):\n",
    "            df[l] = \"0\"\n",
    "        "
   ]
  },
  {
   "cell_type": "markdown",
   "metadata": {},
   "source": [
    "#### Testing if the data is nil free"
   ]
  },
  {
   "cell_type": "code",
   "execution_count": 50,
   "metadata": {},
   "outputs": [
    {
     "name": "stdout",
     "output_type": "stream",
     "text": [
      "[]\n"
     ]
    }
   ],
   "source": [
    "list = []\n",
    "for k in data[0].keys():\n",
    "    for df in data:\n",
    "        if(df[k] == \"NA\" or df[k] == \"nil\" or df[k] == \"\" or df[k] == \"nan\"):\n",
    "            list.append(k)\n",
    "            break\n",
    "print(list)"
   ]
  }
 ],
 "metadata": {
  "kernelspec": {
   "display_name": "Python 3.10.2 64-bit",
   "language": "python",
   "name": "python3"
  },
  "language_info": {
   "codemirror_mode": {
    "name": "ipython",
    "version": 3
   },
   "file_extension": ".py",
   "mimetype": "text/x-python",
   "name": "python",
   "nbconvert_exporter": "python",
   "pygments_lexer": "ipython3",
   "version": "3.10.2"
  },
  "orig_nbformat": 4,
  "vscode": {
   "interpreter": {
    "hash": "768d29acb26c6f46439f26b5bf49ddd6231c1ea664bee204d313e927ac15332b"
   }
  }
 },
 "nbformat": 4,
 "nbformat_minor": 2
}
